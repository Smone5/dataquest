{
 "cells": [
  {
   "cell_type": "code",
   "execution_count": 3,
   "metadata": {
    "collapsed": false
   },
   "outputs": [],
   "source": [
    "import pandas as pd\n",
    "import numpy as np\n",
    "import matplotlib.pyplot as plt\n",
    "%matplotlib inline\n",
    "\n",
    "star_wars = pd.read_csv(\"star_wars.csv\", encoding=\"ISO-8859-1\")"
   ]
  },
  {
   "cell_type": "code",
   "execution_count": 4,
   "metadata": {
    "collapsed": false
   },
   "outputs": [
    {
     "data": {
      "text/html": [
       "<div>\n",
       "<table border=\"1\" class=\"dataframe\">\n",
       "  <thead>\n",
       "    <tr style=\"text-align: right;\">\n",
       "      <th></th>\n",
       "      <th>RespondentID</th>\n",
       "      <th>Have you seen any of the 6 films in the Star Wars franchise?</th>\n",
       "      <th>Do you consider yourself to be a fan of the Star Wars film franchise?</th>\n",
       "      <th>Which of the following Star Wars films have you seen? Please select all that apply.</th>\n",
       "      <th>Unnamed: 4</th>\n",
       "      <th>Unnamed: 5</th>\n",
       "      <th>Unnamed: 6</th>\n",
       "      <th>Unnamed: 7</th>\n",
       "      <th>Unnamed: 8</th>\n",
       "      <th>Please rank the Star Wars films in order of preference with 1 being your favorite film in the franchise and 6 being your least favorite film.</th>\n",
       "      <th>...</th>\n",
       "      <th>Unnamed: 28</th>\n",
       "      <th>Which character shot first?</th>\n",
       "      <th>Are you familiar with the Expanded Universe?</th>\n",
       "      <th>Do you consider yourself to be a fan of the Expanded Universe?ÂÃ¦</th>\n",
       "      <th>Do you consider yourself to be a fan of the Star Trek franchise?</th>\n",
       "      <th>Gender</th>\n",
       "      <th>Age</th>\n",
       "      <th>Household Income</th>\n",
       "      <th>Education</th>\n",
       "      <th>Location (Census Region)</th>\n",
       "    </tr>\n",
       "  </thead>\n",
       "  <tbody>\n",
       "    <tr>\n",
       "      <th>0</th>\n",
       "      <td>NaN</td>\n",
       "      <td>Response</td>\n",
       "      <td>Response</td>\n",
       "      <td>Star Wars: Episode I  The Phantom Menace</td>\n",
       "      <td>Star Wars: Episode II  Attack of the Clones</td>\n",
       "      <td>Star Wars: Episode III  Revenge of the Sith</td>\n",
       "      <td>Star Wars: Episode IV  A New Hope</td>\n",
       "      <td>Star Wars: Episode V The Empire Strikes Back</td>\n",
       "      <td>Star Wars: Episode VI Return of the Jedi</td>\n",
       "      <td>Star Wars: Episode I  The Phantom Menace</td>\n",
       "      <td>...</td>\n",
       "      <td>Yoda</td>\n",
       "      <td>Response</td>\n",
       "      <td>Response</td>\n",
       "      <td>Response</td>\n",
       "      <td>Response</td>\n",
       "      <td>Response</td>\n",
       "      <td>Response</td>\n",
       "      <td>Response</td>\n",
       "      <td>Response</td>\n",
       "      <td>Response</td>\n",
       "    </tr>\n",
       "    <tr>\n",
       "      <th>1</th>\n",
       "      <td>3.292880e+09</td>\n",
       "      <td>Yes</td>\n",
       "      <td>Yes</td>\n",
       "      <td>Star Wars: Episode I  The Phantom Menace</td>\n",
       "      <td>Star Wars: Episode II  Attack of the Clones</td>\n",
       "      <td>Star Wars: Episode III  Revenge of the Sith</td>\n",
       "      <td>Star Wars: Episode IV  A New Hope</td>\n",
       "      <td>Star Wars: Episode V The Empire Strikes Back</td>\n",
       "      <td>Star Wars: Episode VI Return of the Jedi</td>\n",
       "      <td>3</td>\n",
       "      <td>...</td>\n",
       "      <td>Very favorably</td>\n",
       "      <td>I don't understand this question</td>\n",
       "      <td>Yes</td>\n",
       "      <td>No</td>\n",
       "      <td>No</td>\n",
       "      <td>Male</td>\n",
       "      <td>18-29</td>\n",
       "      <td>NaN</td>\n",
       "      <td>High school degree</td>\n",
       "      <td>South Atlantic</td>\n",
       "    </tr>\n",
       "    <tr>\n",
       "      <th>2</th>\n",
       "      <td>3.292880e+09</td>\n",
       "      <td>No</td>\n",
       "      <td>NaN</td>\n",
       "      <td>NaN</td>\n",
       "      <td>NaN</td>\n",
       "      <td>NaN</td>\n",
       "      <td>NaN</td>\n",
       "      <td>NaN</td>\n",
       "      <td>NaN</td>\n",
       "      <td>NaN</td>\n",
       "      <td>...</td>\n",
       "      <td>NaN</td>\n",
       "      <td>NaN</td>\n",
       "      <td>NaN</td>\n",
       "      <td>NaN</td>\n",
       "      <td>Yes</td>\n",
       "      <td>Male</td>\n",
       "      <td>18-29</td>\n",
       "      <td>$0 - $24,999</td>\n",
       "      <td>Bachelor degree</td>\n",
       "      <td>West South Central</td>\n",
       "    </tr>\n",
       "    <tr>\n",
       "      <th>3</th>\n",
       "      <td>3.292765e+09</td>\n",
       "      <td>Yes</td>\n",
       "      <td>No</td>\n",
       "      <td>Star Wars: Episode I  The Phantom Menace</td>\n",
       "      <td>Star Wars: Episode II  Attack of the Clones</td>\n",
       "      <td>Star Wars: Episode III  Revenge of the Sith</td>\n",
       "      <td>NaN</td>\n",
       "      <td>NaN</td>\n",
       "      <td>NaN</td>\n",
       "      <td>1</td>\n",
       "      <td>...</td>\n",
       "      <td>Unfamiliar (N/A)</td>\n",
       "      <td>I don't understand this question</td>\n",
       "      <td>No</td>\n",
       "      <td>NaN</td>\n",
       "      <td>No</td>\n",
       "      <td>Male</td>\n",
       "      <td>18-29</td>\n",
       "      <td>$0 - $24,999</td>\n",
       "      <td>High school degree</td>\n",
       "      <td>West North Central</td>\n",
       "    </tr>\n",
       "    <tr>\n",
       "      <th>4</th>\n",
       "      <td>3.292763e+09</td>\n",
       "      <td>Yes</td>\n",
       "      <td>Yes</td>\n",
       "      <td>Star Wars: Episode I  The Phantom Menace</td>\n",
       "      <td>Star Wars: Episode II  Attack of the Clones</td>\n",
       "      <td>Star Wars: Episode III  Revenge of the Sith</td>\n",
       "      <td>Star Wars: Episode IV  A New Hope</td>\n",
       "      <td>Star Wars: Episode V The Empire Strikes Back</td>\n",
       "      <td>Star Wars: Episode VI Return of the Jedi</td>\n",
       "      <td>5</td>\n",
       "      <td>...</td>\n",
       "      <td>Very favorably</td>\n",
       "      <td>I don't understand this question</td>\n",
       "      <td>No</td>\n",
       "      <td>NaN</td>\n",
       "      <td>Yes</td>\n",
       "      <td>Male</td>\n",
       "      <td>18-29</td>\n",
       "      <td>$100,000 - $149,999</td>\n",
       "      <td>Some college or Associate degree</td>\n",
       "      <td>West North Central</td>\n",
       "    </tr>\n",
       "    <tr>\n",
       "      <th>5</th>\n",
       "      <td>3.292731e+09</td>\n",
       "      <td>Yes</td>\n",
       "      <td>Yes</td>\n",
       "      <td>Star Wars: Episode I  The Phantom Menace</td>\n",
       "      <td>Star Wars: Episode II  Attack of the Clones</td>\n",
       "      <td>Star Wars: Episode III  Revenge of the Sith</td>\n",
       "      <td>Star Wars: Episode IV  A New Hope</td>\n",
       "      <td>Star Wars: Episode V The Empire Strikes Back</td>\n",
       "      <td>Star Wars: Episode VI Return of the Jedi</td>\n",
       "      <td>5</td>\n",
       "      <td>...</td>\n",
       "      <td>Somewhat favorably</td>\n",
       "      <td>Greedo</td>\n",
       "      <td>Yes</td>\n",
       "      <td>No</td>\n",
       "      <td>No</td>\n",
       "      <td>Male</td>\n",
       "      <td>18-29</td>\n",
       "      <td>$100,000 - $149,999</td>\n",
       "      <td>Some college or Associate degree</td>\n",
       "      <td>West North Central</td>\n",
       "    </tr>\n",
       "    <tr>\n",
       "      <th>6</th>\n",
       "      <td>3.292719e+09</td>\n",
       "      <td>Yes</td>\n",
       "      <td>Yes</td>\n",
       "      <td>Star Wars: Episode I  The Phantom Menace</td>\n",
       "      <td>Star Wars: Episode II  Attack of the Clones</td>\n",
       "      <td>Star Wars: Episode III  Revenge of the Sith</td>\n",
       "      <td>Star Wars: Episode IV  A New Hope</td>\n",
       "      <td>Star Wars: Episode V The Empire Strikes Back</td>\n",
       "      <td>Star Wars: Episode VI Return of the Jedi</td>\n",
       "      <td>1</td>\n",
       "      <td>...</td>\n",
       "      <td>Very favorably</td>\n",
       "      <td>Han</td>\n",
       "      <td>Yes</td>\n",
       "      <td>No</td>\n",
       "      <td>Yes</td>\n",
       "      <td>Male</td>\n",
       "      <td>18-29</td>\n",
       "      <td>$25,000 - $49,999</td>\n",
       "      <td>Bachelor degree</td>\n",
       "      <td>Middle Atlantic</td>\n",
       "    </tr>\n",
       "    <tr>\n",
       "      <th>7</th>\n",
       "      <td>3.292685e+09</td>\n",
       "      <td>Yes</td>\n",
       "      <td>Yes</td>\n",
       "      <td>Star Wars: Episode I  The Phantom Menace</td>\n",
       "      <td>Star Wars: Episode II  Attack of the Clones</td>\n",
       "      <td>Star Wars: Episode III  Revenge of the Sith</td>\n",
       "      <td>Star Wars: Episode IV  A New Hope</td>\n",
       "      <td>Star Wars: Episode V The Empire Strikes Back</td>\n",
       "      <td>Star Wars: Episode VI Return of the Jedi</td>\n",
       "      <td>6</td>\n",
       "      <td>...</td>\n",
       "      <td>Very favorably</td>\n",
       "      <td>Han</td>\n",
       "      <td>Yes</td>\n",
       "      <td>No</td>\n",
       "      <td>No</td>\n",
       "      <td>Male</td>\n",
       "      <td>18-29</td>\n",
       "      <td>NaN</td>\n",
       "      <td>High school degree</td>\n",
       "      <td>East North Central</td>\n",
       "    </tr>\n",
       "    <tr>\n",
       "      <th>8</th>\n",
       "      <td>3.292664e+09</td>\n",
       "      <td>Yes</td>\n",
       "      <td>Yes</td>\n",
       "      <td>Star Wars: Episode I  The Phantom Menace</td>\n",
       "      <td>Star Wars: Episode II  Attack of the Clones</td>\n",
       "      <td>Star Wars: Episode III  Revenge of the Sith</td>\n",
       "      <td>Star Wars: Episode IV  A New Hope</td>\n",
       "      <td>Star Wars: Episode V The Empire Strikes Back</td>\n",
       "      <td>Star Wars: Episode VI Return of the Jedi</td>\n",
       "      <td>4</td>\n",
       "      <td>...</td>\n",
       "      <td>Very favorably</td>\n",
       "      <td>Han</td>\n",
       "      <td>No</td>\n",
       "      <td>NaN</td>\n",
       "      <td>Yes</td>\n",
       "      <td>Male</td>\n",
       "      <td>18-29</td>\n",
       "      <td>NaN</td>\n",
       "      <td>High school degree</td>\n",
       "      <td>South Atlantic</td>\n",
       "    </tr>\n",
       "    <tr>\n",
       "      <th>9</th>\n",
       "      <td>3.292654e+09</td>\n",
       "      <td>Yes</td>\n",
       "      <td>Yes</td>\n",
       "      <td>Star Wars: Episode I  The Phantom Menace</td>\n",
       "      <td>Star Wars: Episode II  Attack of the Clones</td>\n",
       "      <td>Star Wars: Episode III  Revenge of the Sith</td>\n",
       "      <td>Star Wars: Episode IV  A New Hope</td>\n",
       "      <td>Star Wars: Episode V The Empire Strikes Back</td>\n",
       "      <td>Star Wars: Episode VI Return of the Jedi</td>\n",
       "      <td>5</td>\n",
       "      <td>...</td>\n",
       "      <td>Somewhat favorably</td>\n",
       "      <td>Han</td>\n",
       "      <td>No</td>\n",
       "      <td>NaN</td>\n",
       "      <td>No</td>\n",
       "      <td>Male</td>\n",
       "      <td>18-29</td>\n",
       "      <td>$0 - $24,999</td>\n",
       "      <td>Some college or Associate degree</td>\n",
       "      <td>South Atlantic</td>\n",
       "    </tr>\n",
       "  </tbody>\n",
       "</table>\n",
       "<p>10 rows × 38 columns</p>\n",
       "</div>"
      ],
      "text/plain": [
       "   RespondentID Have you seen any of the 6 films in the Star Wars franchise?  \\\n",
       "0           NaN                                           Response             \n",
       "1  3.292880e+09                                                Yes             \n",
       "2  3.292880e+09                                                 No             \n",
       "3  3.292765e+09                                                Yes             \n",
       "4  3.292763e+09                                                Yes             \n",
       "5  3.292731e+09                                                Yes             \n",
       "6  3.292719e+09                                                Yes             \n",
       "7  3.292685e+09                                                Yes             \n",
       "8  3.292664e+09                                                Yes             \n",
       "9  3.292654e+09                                                Yes             \n",
       "\n",
       "  Do you consider yourself to be a fan of the Star Wars film franchise?  \\\n",
       "0                                           Response                      \n",
       "1                                                Yes                      \n",
       "2                                                NaN                      \n",
       "3                                                 No                      \n",
       "4                                                Yes                      \n",
       "5                                                Yes                      \n",
       "6                                                Yes                      \n",
       "7                                                Yes                      \n",
       "8                                                Yes                      \n",
       "9                                                Yes                      \n",
       "\n",
       "  Which of the following Star Wars films have you seen? Please select all that apply.  \\\n",
       "0           Star Wars: Episode I  The Phantom Menace                                    \n",
       "1           Star Wars: Episode I  The Phantom Menace                                    \n",
       "2                                                NaN                                    \n",
       "3           Star Wars: Episode I  The Phantom Menace                                    \n",
       "4           Star Wars: Episode I  The Phantom Menace                                    \n",
       "5           Star Wars: Episode I  The Phantom Menace                                    \n",
       "6           Star Wars: Episode I  The Phantom Menace                                    \n",
       "7           Star Wars: Episode I  The Phantom Menace                                    \n",
       "8           Star Wars: Episode I  The Phantom Menace                                    \n",
       "9           Star Wars: Episode I  The Phantom Menace                                    \n",
       "\n",
       "                                    Unnamed: 4  \\\n",
       "0  Star Wars: Episode II  Attack of the Clones   \n",
       "1  Star Wars: Episode II  Attack of the Clones   \n",
       "2                                          NaN   \n",
       "3  Star Wars: Episode II  Attack of the Clones   \n",
       "4  Star Wars: Episode II  Attack of the Clones   \n",
       "5  Star Wars: Episode II  Attack of the Clones   \n",
       "6  Star Wars: Episode II  Attack of the Clones   \n",
       "7  Star Wars: Episode II  Attack of the Clones   \n",
       "8  Star Wars: Episode II  Attack of the Clones   \n",
       "9  Star Wars: Episode II  Attack of the Clones   \n",
       "\n",
       "                                    Unnamed: 5  \\\n",
       "0  Star Wars: Episode III  Revenge of the Sith   \n",
       "1  Star Wars: Episode III  Revenge of the Sith   \n",
       "2                                          NaN   \n",
       "3  Star Wars: Episode III  Revenge of the Sith   \n",
       "4  Star Wars: Episode III  Revenge of the Sith   \n",
       "5  Star Wars: Episode III  Revenge of the Sith   \n",
       "6  Star Wars: Episode III  Revenge of the Sith   \n",
       "7  Star Wars: Episode III  Revenge of the Sith   \n",
       "8  Star Wars: Episode III  Revenge of the Sith   \n",
       "9  Star Wars: Episode III  Revenge of the Sith   \n",
       "\n",
       "                          Unnamed: 6  \\\n",
       "0  Star Wars: Episode IV  A New Hope   \n",
       "1  Star Wars: Episode IV  A New Hope   \n",
       "2                                NaN   \n",
       "3                                NaN   \n",
       "4  Star Wars: Episode IV  A New Hope   \n",
       "5  Star Wars: Episode IV  A New Hope   \n",
       "6  Star Wars: Episode IV  A New Hope   \n",
       "7  Star Wars: Episode IV  A New Hope   \n",
       "8  Star Wars: Episode IV  A New Hope   \n",
       "9  Star Wars: Episode IV  A New Hope   \n",
       "\n",
       "                                     Unnamed: 7  \\\n",
       "0  Star Wars: Episode V The Empire Strikes Back   \n",
       "1  Star Wars: Episode V The Empire Strikes Back   \n",
       "2                                           NaN   \n",
       "3                                           NaN   \n",
       "4  Star Wars: Episode V The Empire Strikes Back   \n",
       "5  Star Wars: Episode V The Empire Strikes Back   \n",
       "6  Star Wars: Episode V The Empire Strikes Back   \n",
       "7  Star Wars: Episode V The Empire Strikes Back   \n",
       "8  Star Wars: Episode V The Empire Strikes Back   \n",
       "9  Star Wars: Episode V The Empire Strikes Back   \n",
       "\n",
       "                                 Unnamed: 8  \\\n",
       "0  Star Wars: Episode VI Return of the Jedi   \n",
       "1  Star Wars: Episode VI Return of the Jedi   \n",
       "2                                       NaN   \n",
       "3                                       NaN   \n",
       "4  Star Wars: Episode VI Return of the Jedi   \n",
       "5  Star Wars: Episode VI Return of the Jedi   \n",
       "6  Star Wars: Episode VI Return of the Jedi   \n",
       "7  Star Wars: Episode VI Return of the Jedi   \n",
       "8  Star Wars: Episode VI Return of the Jedi   \n",
       "9  Star Wars: Episode VI Return of the Jedi   \n",
       "\n",
       "  Please rank the Star Wars films in order of preference with 1 being your favorite film in the franchise and 6 being your least favorite film.  \\\n",
       "0           Star Wars: Episode I  The Phantom Menace                                                                                              \n",
       "1                                                  3                                                                                              \n",
       "2                                                NaN                                                                                              \n",
       "3                                                  1                                                                                              \n",
       "4                                                  5                                                                                              \n",
       "5                                                  5                                                                                              \n",
       "6                                                  1                                                                                              \n",
       "7                                                  6                                                                                              \n",
       "8                                                  4                                                                                              \n",
       "9                                                  5                                                                                              \n",
       "\n",
       "            ...                    Unnamed: 28  \\\n",
       "0           ...                           Yoda   \n",
       "1           ...                 Very favorably   \n",
       "2           ...                            NaN   \n",
       "3           ...               Unfamiliar (N/A)   \n",
       "4           ...                 Very favorably   \n",
       "5           ...             Somewhat favorably   \n",
       "6           ...                 Very favorably   \n",
       "7           ...                 Very favorably   \n",
       "8           ...                 Very favorably   \n",
       "9           ...             Somewhat favorably   \n",
       "\n",
       "        Which character shot first?  \\\n",
       "0                          Response   \n",
       "1  I don't understand this question   \n",
       "2                               NaN   \n",
       "3  I don't understand this question   \n",
       "4  I don't understand this question   \n",
       "5                            Greedo   \n",
       "6                               Han   \n",
       "7                               Han   \n",
       "8                               Han   \n",
       "9                               Han   \n",
       "\n",
       "  Are you familiar with the Expanded Universe?  \\\n",
       "0                                     Response   \n",
       "1                                          Yes   \n",
       "2                                          NaN   \n",
       "3                                           No   \n",
       "4                                           No   \n",
       "5                                          Yes   \n",
       "6                                          Yes   \n",
       "7                                          Yes   \n",
       "8                                           No   \n",
       "9                                           No   \n",
       "\n",
       "  Do you consider yourself to be a fan of the Expanded Universe?ÂÃ¦  \\\n",
       "0                                           Response                   \n",
       "1                                                 No                   \n",
       "2                                                NaN                   \n",
       "3                                                NaN                   \n",
       "4                                                NaN                   \n",
       "5                                                 No                   \n",
       "6                                                 No                   \n",
       "7                                                 No                   \n",
       "8                                                NaN                   \n",
       "9                                                NaN                   \n",
       "\n",
       "  Do you consider yourself to be a fan of the Star Trek franchise?    Gender  \\\n",
       "0                                           Response                Response   \n",
       "1                                                 No                    Male   \n",
       "2                                                Yes                    Male   \n",
       "3                                                 No                    Male   \n",
       "4                                                Yes                    Male   \n",
       "5                                                 No                    Male   \n",
       "6                                                Yes                    Male   \n",
       "7                                                 No                    Male   \n",
       "8                                                Yes                    Male   \n",
       "9                                                 No                    Male   \n",
       "\n",
       "        Age     Household Income                         Education  \\\n",
       "0  Response             Response                          Response   \n",
       "1     18-29                  NaN                High school degree   \n",
       "2     18-29         $0 - $24,999                   Bachelor degree   \n",
       "3     18-29         $0 - $24,999                High school degree   \n",
       "4     18-29  $100,000 - $149,999  Some college or Associate degree   \n",
       "5     18-29  $100,000 - $149,999  Some college or Associate degree   \n",
       "6     18-29    $25,000 - $49,999                   Bachelor degree   \n",
       "7     18-29                  NaN                High school degree   \n",
       "8     18-29                  NaN                High school degree   \n",
       "9     18-29         $0 - $24,999  Some college or Associate degree   \n",
       "\n",
       "  Location (Census Region)  \n",
       "0                 Response  \n",
       "1           South Atlantic  \n",
       "2       West South Central  \n",
       "3       West North Central  \n",
       "4       West North Central  \n",
       "5       West North Central  \n",
       "6          Middle Atlantic  \n",
       "7       East North Central  \n",
       "8           South Atlantic  \n",
       "9           South Atlantic  \n",
       "\n",
       "[10 rows x 38 columns]"
      ]
     },
     "execution_count": 4,
     "metadata": {},
     "output_type": "execute_result"
    }
   ],
   "source": [
    "star_wars.head(10)\n"
   ]
  },
  {
   "cell_type": "code",
   "execution_count": 5,
   "metadata": {
    "collapsed": false
   },
   "outputs": [],
   "source": [
    "star_wars = star_wars[pd.notnull(star_wars['RespondentID'])]"
   ]
  },
  {
   "cell_type": "code",
   "execution_count": 6,
   "metadata": {
    "collapsed": false
   },
   "outputs": [
    {
     "data": {
      "text/plain": [
       "Yes    936\n",
       "No     250\n",
       "Name: Have you seen any of the 6 films in the Star Wars franchise?, dtype: int64"
      ]
     },
     "execution_count": 6,
     "metadata": {},
     "output_type": "execute_result"
    }
   ],
   "source": [
    "star_wars['Have you seen any of the 6 films in the Star Wars franchise?'].value_counts()"
   ]
  },
  {
   "cell_type": "code",
   "execution_count": 7,
   "metadata": {
    "collapsed": false
   },
   "outputs": [
    {
     "data": {
      "text/plain": [
       "Yes    552\n",
       "No     284\n",
       "Name: Do you consider yourself to be a fan of the Star Wars film franchise?, dtype: int64"
      ]
     },
     "execution_count": 7,
     "metadata": {},
     "output_type": "execute_result"
    }
   ],
   "source": [
    "star_wars['Do you consider yourself to be a fan of the Star Wars film franchise?'].value_counts()"
   ]
  },
  {
   "cell_type": "code",
   "execution_count": 8,
   "metadata": {
    "collapsed": false
   },
   "outputs": [
    {
     "data": {
      "text/plain": [
       "1     True\n",
       "2    False\n",
       "3     True\n",
       "4     True\n",
       "5     True\n",
       "Name: Have you seen any of the 6 films in the Star Wars franchise?, dtype: bool"
      ]
     },
     "execution_count": 8,
     "metadata": {},
     "output_type": "execute_result"
    }
   ],
   "source": [
    "yes_no = {\n",
    "    \"Yes\": True,\n",
    "    \"No\": False\n",
    "}\n",
    "\n",
    "star_wars['Have you seen any of the 6 films in the Star Wars franchise?'] = star_wars['Have you seen any of the 6 films in the Star Wars franchise?'].map(yes_no)\n",
    "\n",
    "star_wars['Have you seen any of the 6 films in the Star Wars franchise?'][:5]"
   ]
  },
  {
   "cell_type": "code",
   "execution_count": 9,
   "metadata": {
    "collapsed": false
   },
   "outputs": [
    {
     "data": {
      "text/plain": [
       "1     True\n",
       "2      NaN\n",
       "3    False\n",
       "4     True\n",
       "5     True\n",
       "Name: Do you consider yourself to be a fan of the Star Wars film franchise?, dtype: object"
      ]
     },
     "execution_count": 9,
     "metadata": {},
     "output_type": "execute_result"
    }
   ],
   "source": [
    "star_wars['Do you consider yourself to be a fan of the Star Wars film franchise?'] = star_wars['Do you consider yourself to be a fan of the Star Wars film franchise?'].map(yes_no)\n",
    "\n",
    "star_wars['Do you consider yourself to be a fan of the Star Wars film franchise?'][:5]"
   ]
  },
  {
   "cell_type": "code",
   "execution_count": 10,
   "metadata": {
    "collapsed": false
   },
   "outputs": [
    {
     "data": {
      "text/plain": [
       "Index(['seen_1', 'seen_2', 'seen_3', 'seen_4', 'seen_5', 'seen_6'], dtype='object')"
      ]
     },
     "execution_count": 10,
     "metadata": {},
     "output_type": "execute_result"
    }
   ],
   "source": [
    "#rename columns\n",
    "\n",
    "test = star_wars.columns[3:9].tolist()\n",
    "\n",
    "new_names = ['seen_1', 'seen_2', 'seen_3', 'seen_4', 'seen_5','seen_6']\n",
    "\n",
    "for i, item in enumerate(test):\n",
    "    star_wars.rename(index=str, columns={test[i]:new_names[i]}, inplace=True)\n",
    "    \n",
    "star_wars.columns[3:9]"
   ]
  },
  {
   "cell_type": "code",
   "execution_count": 11,
   "metadata": {
    "collapsed": false
   },
   "outputs": [
    {
     "data": {
      "text/plain": [
       "['Star Wars: Episode I  The Phantom Menace',\n",
       " 'Star Wars: Episode II  Attack of the Clones',\n",
       " 'Star Wars: Episode III  Revenge of the Sith',\n",
       " 'Star Wars: Episode IV  A New Hope',\n",
       " 'Star Wars: Episode V The Empire Strikes Back',\n",
       " 'Star Wars: Episode VI Return of the Jedi']"
      ]
     },
     "execution_count": 11,
     "metadata": {},
     "output_type": "execute_result"
    }
   ],
   "source": [
    "movie_names = star_wars.iloc[0:1, 3:9].values.tolist()\n",
    "\n",
    "movie_names = [val for sublist in movie_names for val in sublist]\n",
    "\n",
    "movie_names"
   ]
  },
  {
   "cell_type": "code",
   "execution_count": 12,
   "metadata": {
    "collapsed": false
   },
   "outputs": [],
   "source": [
    "i = 0\n",
    "\n",
    "for movie in movie_names:\n",
    "    \n",
    "    saw_movie = {\n",
    "    movie: True,\n",
    "    np.nan: False\n",
    "    }\n",
    "\n",
    "    star_wars[new_names[i]] = star_wars[new_names[i]].map(saw_movie)\n",
    "    \n",
    "    i += 1"
   ]
  },
  {
   "cell_type": "code",
   "execution_count": 13,
   "metadata": {
    "collapsed": false
   },
   "outputs": [
    {
     "data": {
      "text/html": [
       "<div>\n",
       "<table border=\"1\" class=\"dataframe\">\n",
       "  <thead>\n",
       "    <tr style=\"text-align: right;\">\n",
       "      <th></th>\n",
       "      <th>RespondentID</th>\n",
       "      <th>Have you seen any of the 6 films in the Star Wars franchise?</th>\n",
       "      <th>Do you consider yourself to be a fan of the Star Wars film franchise?</th>\n",
       "      <th>seen_1</th>\n",
       "      <th>seen_2</th>\n",
       "      <th>seen_3</th>\n",
       "      <th>seen_4</th>\n",
       "      <th>seen_5</th>\n",
       "      <th>seen_6</th>\n",
       "      <th>Please rank the Star Wars films in order of preference with 1 being your favorite film in the franchise and 6 being your least favorite film.</th>\n",
       "      <th>...</th>\n",
       "      <th>Unnamed: 28</th>\n",
       "      <th>Which character shot first?</th>\n",
       "      <th>Are you familiar with the Expanded Universe?</th>\n",
       "      <th>Do you consider yourself to be a fan of the Expanded Universe?ÂÃ¦</th>\n",
       "      <th>Do you consider yourself to be a fan of the Star Trek franchise?</th>\n",
       "      <th>Gender</th>\n",
       "      <th>Age</th>\n",
       "      <th>Household Income</th>\n",
       "      <th>Education</th>\n",
       "      <th>Location (Census Region)</th>\n",
       "    </tr>\n",
       "  </thead>\n",
       "  <tbody>\n",
       "    <tr>\n",
       "      <th>1</th>\n",
       "      <td>3.292880e+09</td>\n",
       "      <td>True</td>\n",
       "      <td>True</td>\n",
       "      <td>True</td>\n",
       "      <td>True</td>\n",
       "      <td>True</td>\n",
       "      <td>True</td>\n",
       "      <td>True</td>\n",
       "      <td>True</td>\n",
       "      <td>3</td>\n",
       "      <td>...</td>\n",
       "      <td>Very favorably</td>\n",
       "      <td>I don't understand this question</td>\n",
       "      <td>Yes</td>\n",
       "      <td>No</td>\n",
       "      <td>No</td>\n",
       "      <td>Male</td>\n",
       "      <td>18-29</td>\n",
       "      <td>NaN</td>\n",
       "      <td>High school degree</td>\n",
       "      <td>South Atlantic</td>\n",
       "    </tr>\n",
       "    <tr>\n",
       "      <th>2</th>\n",
       "      <td>3.292880e+09</td>\n",
       "      <td>False</td>\n",
       "      <td>NaN</td>\n",
       "      <td>False</td>\n",
       "      <td>False</td>\n",
       "      <td>False</td>\n",
       "      <td>False</td>\n",
       "      <td>False</td>\n",
       "      <td>False</td>\n",
       "      <td>NaN</td>\n",
       "      <td>...</td>\n",
       "      <td>NaN</td>\n",
       "      <td>NaN</td>\n",
       "      <td>NaN</td>\n",
       "      <td>NaN</td>\n",
       "      <td>Yes</td>\n",
       "      <td>Male</td>\n",
       "      <td>18-29</td>\n",
       "      <td>$0 - $24,999</td>\n",
       "      <td>Bachelor degree</td>\n",
       "      <td>West South Central</td>\n",
       "    </tr>\n",
       "    <tr>\n",
       "      <th>3</th>\n",
       "      <td>3.292765e+09</td>\n",
       "      <td>True</td>\n",
       "      <td>False</td>\n",
       "      <td>True</td>\n",
       "      <td>True</td>\n",
       "      <td>True</td>\n",
       "      <td>False</td>\n",
       "      <td>False</td>\n",
       "      <td>False</td>\n",
       "      <td>1</td>\n",
       "      <td>...</td>\n",
       "      <td>Unfamiliar (N/A)</td>\n",
       "      <td>I don't understand this question</td>\n",
       "      <td>No</td>\n",
       "      <td>NaN</td>\n",
       "      <td>No</td>\n",
       "      <td>Male</td>\n",
       "      <td>18-29</td>\n",
       "      <td>$0 - $24,999</td>\n",
       "      <td>High school degree</td>\n",
       "      <td>West North Central</td>\n",
       "    </tr>\n",
       "    <tr>\n",
       "      <th>4</th>\n",
       "      <td>3.292763e+09</td>\n",
       "      <td>True</td>\n",
       "      <td>True</td>\n",
       "      <td>True</td>\n",
       "      <td>True</td>\n",
       "      <td>True</td>\n",
       "      <td>True</td>\n",
       "      <td>True</td>\n",
       "      <td>True</td>\n",
       "      <td>5</td>\n",
       "      <td>...</td>\n",
       "      <td>Very favorably</td>\n",
       "      <td>I don't understand this question</td>\n",
       "      <td>No</td>\n",
       "      <td>NaN</td>\n",
       "      <td>Yes</td>\n",
       "      <td>Male</td>\n",
       "      <td>18-29</td>\n",
       "      <td>$100,000 - $149,999</td>\n",
       "      <td>Some college or Associate degree</td>\n",
       "      <td>West North Central</td>\n",
       "    </tr>\n",
       "    <tr>\n",
       "      <th>5</th>\n",
       "      <td>3.292731e+09</td>\n",
       "      <td>True</td>\n",
       "      <td>True</td>\n",
       "      <td>True</td>\n",
       "      <td>True</td>\n",
       "      <td>True</td>\n",
       "      <td>True</td>\n",
       "      <td>True</td>\n",
       "      <td>True</td>\n",
       "      <td>5</td>\n",
       "      <td>...</td>\n",
       "      <td>Somewhat favorably</td>\n",
       "      <td>Greedo</td>\n",
       "      <td>Yes</td>\n",
       "      <td>No</td>\n",
       "      <td>No</td>\n",
       "      <td>Male</td>\n",
       "      <td>18-29</td>\n",
       "      <td>$100,000 - $149,999</td>\n",
       "      <td>Some college or Associate degree</td>\n",
       "      <td>West North Central</td>\n",
       "    </tr>\n",
       "  </tbody>\n",
       "</table>\n",
       "<p>5 rows × 38 columns</p>\n",
       "</div>"
      ],
      "text/plain": [
       "   RespondentID Have you seen any of the 6 films in the Star Wars franchise?  \\\n",
       "1  3.292880e+09                                               True             \n",
       "2  3.292880e+09                                              False             \n",
       "3  3.292765e+09                                               True             \n",
       "4  3.292763e+09                                               True             \n",
       "5  3.292731e+09                                               True             \n",
       "\n",
       "  Do you consider yourself to be a fan of the Star Wars film franchise?  \\\n",
       "1                                               True                      \n",
       "2                                                NaN                      \n",
       "3                                              False                      \n",
       "4                                               True                      \n",
       "5                                               True                      \n",
       "\n",
       "  seen_1 seen_2 seen_3 seen_4 seen_5 seen_6  \\\n",
       "1   True   True   True   True   True   True   \n",
       "2  False  False  False  False  False  False   \n",
       "3   True   True   True  False  False  False   \n",
       "4   True   True   True   True   True   True   \n",
       "5   True   True   True   True   True   True   \n",
       "\n",
       "  Please rank the Star Wars films in order of preference with 1 being your favorite film in the franchise and 6 being your least favorite film.  \\\n",
       "1                                                  3                                                                                              \n",
       "2                                                NaN                                                                                              \n",
       "3                                                  1                                                                                              \n",
       "4                                                  5                                                                                              \n",
       "5                                                  5                                                                                              \n",
       "\n",
       "            ...                    Unnamed: 28  \\\n",
       "1           ...                 Very favorably   \n",
       "2           ...                            NaN   \n",
       "3           ...               Unfamiliar (N/A)   \n",
       "4           ...                 Very favorably   \n",
       "5           ...             Somewhat favorably   \n",
       "\n",
       "        Which character shot first?  \\\n",
       "1  I don't understand this question   \n",
       "2                               NaN   \n",
       "3  I don't understand this question   \n",
       "4  I don't understand this question   \n",
       "5                            Greedo   \n",
       "\n",
       "  Are you familiar with the Expanded Universe?  \\\n",
       "1                                          Yes   \n",
       "2                                          NaN   \n",
       "3                                           No   \n",
       "4                                           No   \n",
       "5                                          Yes   \n",
       "\n",
       "  Do you consider yourself to be a fan of the Expanded Universe?ÂÃ¦  \\\n",
       "1                                                 No                   \n",
       "2                                                NaN                   \n",
       "3                                                NaN                   \n",
       "4                                                NaN                   \n",
       "5                                                 No                   \n",
       "\n",
       "  Do you consider yourself to be a fan of the Star Trek franchise? Gender  \\\n",
       "1                                                 No                 Male   \n",
       "2                                                Yes                 Male   \n",
       "3                                                 No                 Male   \n",
       "4                                                Yes                 Male   \n",
       "5                                                 No                 Male   \n",
       "\n",
       "     Age     Household Income                         Education  \\\n",
       "1  18-29                  NaN                High school degree   \n",
       "2  18-29         $0 - $24,999                   Bachelor degree   \n",
       "3  18-29         $0 - $24,999                High school degree   \n",
       "4  18-29  $100,000 - $149,999  Some college or Associate degree   \n",
       "5  18-29  $100,000 - $149,999  Some college or Associate degree   \n",
       "\n",
       "  Location (Census Region)  \n",
       "1           South Atlantic  \n",
       "2       West South Central  \n",
       "3       West North Central  \n",
       "4       West North Central  \n",
       "5       West North Central  \n",
       "\n",
       "[5 rows x 38 columns]"
      ]
     },
     "execution_count": 13,
     "metadata": {},
     "output_type": "execute_result"
    }
   ],
   "source": [
    "star_wars.head(5)"
   ]
  },
  {
   "cell_type": "code",
   "execution_count": 14,
   "metadata": {
    "collapsed": false
   },
   "outputs": [
    {
     "data": {
      "text/plain": [
       "Index(['rank_1', 'rank_2', 'rank_3', 'rank_4', 'rank_5', 'rank_6'], dtype='object')"
      ]
     },
     "execution_count": 14,
     "metadata": {},
     "output_type": "execute_result"
    }
   ],
   "source": [
    "test = star_wars.columns[9:15].tolist()\n",
    "\n",
    "new_names = ['rank_1', 'rank_2', 'rank_3', 'rank_4', 'rank_5','rank_6']\n",
    "\n",
    "for i, item in enumerate(test):\n",
    "    star_wars.rename(index=str, columns={test[i]:new_names[i]}, inplace=True)\n",
    "    \n",
    "star_wars.columns[9:15]"
   ]
  },
  {
   "cell_type": "code",
   "execution_count": 15,
   "metadata": {
    "collapsed": false
   },
   "outputs": [],
   "source": [
    "star_wars[star_wars.columns[9:15]] = star_wars[star_wars.columns[9:15]].astype(float)"
   ]
  },
  {
   "cell_type": "code",
   "execution_count": 16,
   "metadata": {
    "collapsed": false
   },
   "outputs": [
    {
     "data": {
      "text/html": [
       "<div>\n",
       "<table border=\"1\" class=\"dataframe\">\n",
       "  <thead>\n",
       "    <tr style=\"text-align: right;\">\n",
       "      <th></th>\n",
       "      <th>rank_1</th>\n",
       "      <th>rank_2</th>\n",
       "      <th>rank_3</th>\n",
       "      <th>rank_4</th>\n",
       "      <th>rank_5</th>\n",
       "      <th>rank_6</th>\n",
       "    </tr>\n",
       "  </thead>\n",
       "  <tbody>\n",
       "    <tr>\n",
       "      <th>1</th>\n",
       "      <td>3.0</td>\n",
       "      <td>2.0</td>\n",
       "      <td>1.0</td>\n",
       "      <td>4.0</td>\n",
       "      <td>5.0</td>\n",
       "      <td>6.0</td>\n",
       "    </tr>\n",
       "    <tr>\n",
       "      <th>2</th>\n",
       "      <td>NaN</td>\n",
       "      <td>NaN</td>\n",
       "      <td>NaN</td>\n",
       "      <td>NaN</td>\n",
       "      <td>NaN</td>\n",
       "      <td>NaN</td>\n",
       "    </tr>\n",
       "    <tr>\n",
       "      <th>3</th>\n",
       "      <td>1.0</td>\n",
       "      <td>2.0</td>\n",
       "      <td>3.0</td>\n",
       "      <td>4.0</td>\n",
       "      <td>5.0</td>\n",
       "      <td>6.0</td>\n",
       "    </tr>\n",
       "  </tbody>\n",
       "</table>\n",
       "</div>"
      ],
      "text/plain": [
       "   rank_1  rank_2  rank_3  rank_4  rank_5  rank_6\n",
       "1     3.0     2.0     1.0     4.0     5.0     6.0\n",
       "2     NaN     NaN     NaN     NaN     NaN     NaN\n",
       "3     1.0     2.0     3.0     4.0     5.0     6.0"
      ]
     },
     "execution_count": 16,
     "metadata": {},
     "output_type": "execute_result"
    }
   ],
   "source": [
    "star_wars.iloc[:3,9:15]"
   ]
  },
  {
   "cell_type": "code",
   "execution_count": 17,
   "metadata": {
    "collapsed": false
   },
   "outputs": [
    {
     "data": {
      "text/html": [
       "<div>\n",
       "<table border=\"1\" class=\"dataframe\">\n",
       "  <thead>\n",
       "    <tr style=\"text-align: right;\">\n",
       "      <th></th>\n",
       "      <th>RespondentID</th>\n",
       "      <th>Have you seen any of the 6 films in the Star Wars franchise?</th>\n",
       "      <th>Do you consider yourself to be a fan of the Star Wars film franchise?</th>\n",
       "      <th>seen_1</th>\n",
       "      <th>seen_2</th>\n",
       "      <th>seen_3</th>\n",
       "      <th>seen_4</th>\n",
       "      <th>seen_5</th>\n",
       "      <th>seen_6</th>\n",
       "      <th>rank_1</th>\n",
       "      <th>...</th>\n",
       "      <th>Unnamed: 28</th>\n",
       "      <th>Which character shot first?</th>\n",
       "      <th>Are you familiar with the Expanded Universe?</th>\n",
       "      <th>Do you consider yourself to be a fan of the Expanded Universe?ÂÃ¦</th>\n",
       "      <th>Do you consider yourself to be a fan of the Star Trek franchise?</th>\n",
       "      <th>Gender</th>\n",
       "      <th>Age</th>\n",
       "      <th>Household Income</th>\n",
       "      <th>Education</th>\n",
       "      <th>Location (Census Region)</th>\n",
       "    </tr>\n",
       "  </thead>\n",
       "  <tbody>\n",
       "    <tr>\n",
       "      <th>10</th>\n",
       "      <td>3.292640e+09</td>\n",
       "      <td>True</td>\n",
       "      <td>False</td>\n",
       "      <td>False</td>\n",
       "      <td>True</td>\n",
       "      <td>False</td>\n",
       "      <td>False</td>\n",
       "      <td>False</td>\n",
       "      <td>False</td>\n",
       "      <td>1.0</td>\n",
       "      <td>...</td>\n",
       "      <td>Very favorably</td>\n",
       "      <td>I don't understand this question</td>\n",
       "      <td>No</td>\n",
       "      <td>NaN</td>\n",
       "      <td>No</td>\n",
       "      <td>Male</td>\n",
       "      <td>18-29</td>\n",
       "      <td>$25,000 - $49,999</td>\n",
       "      <td>Some college or Associate degree</td>\n",
       "      <td>Pacific</td>\n",
       "    </tr>\n",
       "    <tr>\n",
       "      <th>11</th>\n",
       "      <td>3.292638e+09</td>\n",
       "      <td>True</td>\n",
       "      <td>NaN</td>\n",
       "      <td>False</td>\n",
       "      <td>False</td>\n",
       "      <td>False</td>\n",
       "      <td>False</td>\n",
       "      <td>False</td>\n",
       "      <td>False</td>\n",
       "      <td>NaN</td>\n",
       "      <td>...</td>\n",
       "      <td>NaN</td>\n",
       "      <td>NaN</td>\n",
       "      <td>NaN</td>\n",
       "      <td>NaN</td>\n",
       "      <td>NaN</td>\n",
       "      <td>NaN</td>\n",
       "      <td>NaN</td>\n",
       "      <td>NaN</td>\n",
       "      <td>NaN</td>\n",
       "      <td>NaN</td>\n",
       "    </tr>\n",
       "    <tr>\n",
       "      <th>12</th>\n",
       "      <td>3.292635e+09</td>\n",
       "      <td>False</td>\n",
       "      <td>NaN</td>\n",
       "      <td>False</td>\n",
       "      <td>False</td>\n",
       "      <td>False</td>\n",
       "      <td>False</td>\n",
       "      <td>False</td>\n",
       "      <td>False</td>\n",
       "      <td>NaN</td>\n",
       "      <td>...</td>\n",
       "      <td>NaN</td>\n",
       "      <td>NaN</td>\n",
       "      <td>NaN</td>\n",
       "      <td>NaN</td>\n",
       "      <td>NaN</td>\n",
       "      <td>NaN</td>\n",
       "      <td>NaN</td>\n",
       "      <td>NaN</td>\n",
       "      <td>NaN</td>\n",
       "      <td>NaN</td>\n",
       "    </tr>\n",
       "    <tr>\n",
       "      <th>13</th>\n",
       "      <td>3.292609e+09</td>\n",
       "      <td>True</td>\n",
       "      <td>False</td>\n",
       "      <td>True</td>\n",
       "      <td>True</td>\n",
       "      <td>True</td>\n",
       "      <td>True</td>\n",
       "      <td>True</td>\n",
       "      <td>True</td>\n",
       "      <td>3.0</td>\n",
       "      <td>...</td>\n",
       "      <td>Very favorably</td>\n",
       "      <td>Greedo</td>\n",
       "      <td>No</td>\n",
       "      <td>NaN</td>\n",
       "      <td>No</td>\n",
       "      <td>Male</td>\n",
       "      <td>18-29</td>\n",
       "      <td>$25,000 - $49,999</td>\n",
       "      <td>Bachelor degree</td>\n",
       "      <td>South Atlantic</td>\n",
       "    </tr>\n",
       "    <tr>\n",
       "      <th>14</th>\n",
       "      <td>3.292597e+09</td>\n",
       "      <td>True</td>\n",
       "      <td>True</td>\n",
       "      <td>True</td>\n",
       "      <td>True</td>\n",
       "      <td>True</td>\n",
       "      <td>True</td>\n",
       "      <td>True</td>\n",
       "      <td>True</td>\n",
       "      <td>4.0</td>\n",
       "      <td>...</td>\n",
       "      <td>Very favorably</td>\n",
       "      <td>I don't understand this question</td>\n",
       "      <td>No</td>\n",
       "      <td>NaN</td>\n",
       "      <td>No</td>\n",
       "      <td>Male</td>\n",
       "      <td>30-44</td>\n",
       "      <td>$50,000 - $99,999</td>\n",
       "      <td>Graduate degree</td>\n",
       "      <td>Mountain</td>\n",
       "    </tr>\n",
       "    <tr>\n",
       "      <th>15</th>\n",
       "      <td>3.292587e+09</td>\n",
       "      <td>True</td>\n",
       "      <td>True</td>\n",
       "      <td>True</td>\n",
       "      <td>True</td>\n",
       "      <td>True</td>\n",
       "      <td>True</td>\n",
       "      <td>True</td>\n",
       "      <td>True</td>\n",
       "      <td>4.0</td>\n",
       "      <td>...</td>\n",
       "      <td>Very favorably</td>\n",
       "      <td>Han</td>\n",
       "      <td>No</td>\n",
       "      <td>NaN</td>\n",
       "      <td>No</td>\n",
       "      <td>Male</td>\n",
       "      <td>18-29</td>\n",
       "      <td>NaN</td>\n",
       "      <td>High school degree</td>\n",
       "      <td>East North Central</td>\n",
       "    </tr>\n",
       "  </tbody>\n",
       "</table>\n",
       "<p>6 rows × 38 columns</p>\n",
       "</div>"
      ],
      "text/plain": [
       "    RespondentID Have you seen any of the 6 films in the Star Wars franchise?  \\\n",
       "10  3.292640e+09                                               True             \n",
       "11  3.292638e+09                                               True             \n",
       "12  3.292635e+09                                              False             \n",
       "13  3.292609e+09                                               True             \n",
       "14  3.292597e+09                                               True             \n",
       "15  3.292587e+09                                               True             \n",
       "\n",
       "   Do you consider yourself to be a fan of the Star Wars film franchise?  \\\n",
       "10                                              False                      \n",
       "11                                                NaN                      \n",
       "12                                                NaN                      \n",
       "13                                              False                      \n",
       "14                                               True                      \n",
       "15                                               True                      \n",
       "\n",
       "   seen_1 seen_2 seen_3 seen_4 seen_5 seen_6  rank_1           ...             \\\n",
       "10  False   True  False  False  False  False     1.0           ...              \n",
       "11  False  False  False  False  False  False     NaN           ...              \n",
       "12  False  False  False  False  False  False     NaN           ...              \n",
       "13   True   True   True   True   True   True     3.0           ...              \n",
       "14   True   True   True   True   True   True     4.0           ...              \n",
       "15   True   True   True   True   True   True     4.0           ...              \n",
       "\n",
       "       Unnamed: 28       Which character shot first?  \\\n",
       "10  Very favorably  I don't understand this question   \n",
       "11             NaN                               NaN   \n",
       "12             NaN                               NaN   \n",
       "13  Very favorably                            Greedo   \n",
       "14  Very favorably  I don't understand this question   \n",
       "15  Very favorably                               Han   \n",
       "\n",
       "    Are you familiar with the Expanded Universe?  \\\n",
       "10                                            No   \n",
       "11                                           NaN   \n",
       "12                                           NaN   \n",
       "13                                            No   \n",
       "14                                            No   \n",
       "15                                            No   \n",
       "\n",
       "    Do you consider yourself to be a fan of the Expanded Universe?ÂÃ¦  \\\n",
       "10                                                NaN                    \n",
       "11                                                NaN                    \n",
       "12                                                NaN                    \n",
       "13                                                NaN                    \n",
       "14                                                NaN                    \n",
       "15                                                NaN                    \n",
       "\n",
       "    Do you consider yourself to be a fan of the Star Trek franchise? Gender  \\\n",
       "10                                                 No                  Male   \n",
       "11                                                NaN                   NaN   \n",
       "12                                                NaN                   NaN   \n",
       "13                                                 No                  Male   \n",
       "14                                                 No                  Male   \n",
       "15                                                 No                  Male   \n",
       "\n",
       "      Age   Household Income                         Education  \\\n",
       "10  18-29  $25,000 - $49,999  Some college or Associate degree   \n",
       "11    NaN                NaN                               NaN   \n",
       "12    NaN                NaN                               NaN   \n",
       "13  18-29  $25,000 - $49,999                   Bachelor degree   \n",
       "14  30-44  $50,000 - $99,999                   Graduate degree   \n",
       "15  18-29                NaN                High school degree   \n",
       "\n",
       "   Location (Census Region)  \n",
       "10                  Pacific  \n",
       "11                      NaN  \n",
       "12                      NaN  \n",
       "13           South Atlantic  \n",
       "14                 Mountain  \n",
       "15       East North Central  \n",
       "\n",
       "[6 rows x 38 columns]"
      ]
     },
     "execution_count": 17,
     "metadata": {},
     "output_type": "execute_result"
    }
   ],
   "source": [
    "star_wars[9:15]"
   ]
  },
  {
   "cell_type": "code",
   "execution_count": 18,
   "metadata": {
    "collapsed": false
   },
   "outputs": [
    {
     "data": {
      "text/plain": [
       "rank_1    3.732934\n",
       "rank_2    4.087321\n",
       "rank_3    4.341317\n",
       "rank_4    3.272727\n",
       "rank_5    2.513158\n",
       "rank_6    3.047847\n",
       "dtype: float64"
      ]
     },
     "execution_count": 18,
     "metadata": {},
     "output_type": "execute_result"
    }
   ],
   "source": [
    "mean_rank = star_wars.iloc[:,9:15].mean()\n",
    "mean_rank"
   ]
  },
  {
   "cell_type": "code",
   "execution_count": 19,
   "metadata": {
    "collapsed": false
   },
   "outputs": [
    {
     "data": {
      "text/plain": [
       "<matplotlib.axes._subplots.AxesSubplot at 0x7fb5d1de4ba8>"
      ]
     },
     "execution_count": 19,
     "metadata": {},
     "output_type": "execute_result"
    },
    {
     "data": {
      "image/png": "[encoded data removed]",
      "text/plain": [
       "<matplotlib.figure.Figure at 0x7fb5d1de4630>"
      ]
     },
     "metadata": {},
     "output_type": "display_data"
    }
   ],
   "source": [
    "mean_rank.plot.bar(title=\"Average Ranking of Six Star Wars Movies\")"
   ]
  },
  {
   "cell_type": "markdown",
   "metadata": {},
   "source": [
    "## Findings\n",
    "\n",
    "So far survey columns about people seeing star wars movies and how they ranked and have been cleaned up for analysis. The columns 3:15 were turned into true, false or nan values in order clean them up. Mapping functions were used mainly to achieve this.\n",
    "\n",
    "In the chart above, the average ranking of six Star Wars movies is displayed. A lower value is deemed a better ranking. The column \"rank_5\" refers to the movie the *Empire Strikes Back*. It got the best rank at roughly 2.5. The column \"rank_3\" refers to the movie *Star Wars: Episode III – Revenge of the Sith*. It got the worst ranking of roughly 4.34. \n",
    "\n",
    "Overall it appears the first three Star Wars movied released in the theatre had better ranking than the more recent Star Wars movies released in the theatre. "
   ]
  },
  {
   "cell_type": "code",
   "execution_count": 28,
   "metadata": {
    "collapsed": false
   },
   "outputs": [
    {
     "data": {
      "text/plain": [
       "seen_1    673\n",
       "seen_2    571\n",
       "seen_3    550\n",
       "seen_4    607\n",
       "seen_5    758\n",
       "seen_6    738\n",
       "dtype: int64"
      ]
     },
     "execution_count": 28,
     "metadata": {},
     "output_type": "execute_result"
    }
   ],
   "source": [
    "sum_seen = star_wars.iloc[:,3:9].sum()\n",
    "sum_seen"
   ]
  },
  {
   "cell_type": "code",
   "execution_count": 29,
   "metadata": {
    "collapsed": false
   },
   "outputs": [
    {
     "data": {
      "text/plain": [
       "<matplotlib.axes._subplots.AxesSubplot at 0x7fb6007aaa90>"
      ]
     },
     "execution_count": 29,
     "metadata": {},
     "output_type": "execute_result"
    },
    {
     "data": {
      "image/png": "[encoded data removed]",
      "text/plain": [
       "<matplotlib.figure.Figure at 0x7fb6007782e8>"
      ]
     },
     "metadata": {},
     "output_type": "display_data"
    }
   ],
   "source": [
    "sum_seen.plot.bar(title=\"Sum of People Who Saw Movies\")"
   ]
  },
  {
   "cell_type": "markdown",
   "metadata": {},
   "source": [
    "## Findings\n",
    "\n",
    "In the bar chart above, sum of people who Star Wars movies is displayed. The bar chart visually communicates that more people saw earlier movies released in the the theatre (seen_4, seen_5, seen_6) than more recent Star Wars movies released in the theatre.  \n",
    "\n",
    "This could help explain why the earlier movies got a higher ranking above. More people saw the earlier Star Wars movies, therefore they were more likely to rate them higher than newer Star Wars movies.\n",
    "\n",
    "Also another reason is if more people see a movie, the more likley the movie will receive a higher rating. There appears to be correlation between ranking of movie and sum of people of who saw the movie. \n",
    "\n"
   ]
  },
  {
   "cell_type": "code",
   "execution_count": 22,
   "metadata": {
    "collapsed": false
   },
   "outputs": [],
   "source": [
    "fan = star_wars[star_wars['Do you consider yourself to be a fan of the Star Wars film franchise?'] == True]\n",
    "non_fan = star_wars[star_wars['Do you consider yourself to be a fan of the Star Wars film franchise?'] == False]"
   ]
  },
  {
   "cell_type": "code",
   "execution_count": 30,
   "metadata": {
    "collapsed": false
   },
   "outputs": [
    {
     "data": {
      "text/html": [
       "<div>\n",
       "<table border=\"1\" class=\"dataframe\">\n",
       "  <thead>\n",
       "    <tr style=\"text-align: right;\">\n",
       "      <th></th>\n",
       "      <th>fan</th>\n",
       "      <th>non_fan</th>\n",
       "    </tr>\n",
       "  </thead>\n",
       "  <tbody>\n",
       "    <tr>\n",
       "      <th>rank_1</th>\n",
       "      <td>4.141304</td>\n",
       "      <td>2.936396</td>\n",
       "    </tr>\n",
       "    <tr>\n",
       "      <th>rank_2</th>\n",
       "      <td>4.342391</td>\n",
       "      <td>3.591549</td>\n",
       "    </tr>\n",
       "    <tr>\n",
       "      <th>rank_3</th>\n",
       "      <td>4.417423</td>\n",
       "      <td>4.193662</td>\n",
       "    </tr>\n",
       "    <tr>\n",
       "      <th>rank_4</th>\n",
       "      <td>2.932971</td>\n",
       "      <td>3.933099</td>\n",
       "    </tr>\n",
       "    <tr>\n",
       "      <th>rank_5</th>\n",
       "      <td>2.333333</td>\n",
       "      <td>2.862676</td>\n",
       "    </tr>\n",
       "    <tr>\n",
       "      <th>rank_6</th>\n",
       "      <td>2.829710</td>\n",
       "      <td>3.471831</td>\n",
       "    </tr>\n",
       "  </tbody>\n",
       "</table>\n",
       "</div>"
      ],
      "text/plain": [
       "             fan   non_fan\n",
       "rank_1  4.141304  2.936396\n",
       "rank_2  4.342391  3.591549\n",
       "rank_3  4.417423  4.193662\n",
       "rank_4  2.932971  3.933099\n",
       "rank_5  2.333333  2.862676\n",
       "rank_6  2.829710  3.471831"
      ]
     },
     "execution_count": 30,
     "metadata": {},
     "output_type": "execute_result"
    }
   ],
   "source": [
    "mean_fan_rank = fan.iloc[:,9:15].mean()\n",
    "mean_non_fan_rank = non_fan.iloc[:,9:15].mean()\n",
    "\n",
    "df_rank = pd.concat([mean_fan_rank,mean_non_fan_rank], axis=1)\n",
    "\n",
    "df_rank.columns = ['fan','non_fan']\n",
    "\n",
    "df_rank"
   ]
  },
  {
   "cell_type": "code",
   "execution_count": 39,
   "metadata": {
    "collapsed": false
   },
   "outputs": [
    {
     "data": {
      "text/html": [
       "<div>\n",
       "<table border=\"1\" class=\"dataframe\">\n",
       "  <thead>\n",
       "    <tr style=\"text-align: right;\">\n",
       "      <th></th>\n",
       "      <th>fan</th>\n",
       "      <th>non_fan</th>\n",
       "    </tr>\n",
       "  </thead>\n",
       "  <tbody>\n",
       "    <tr>\n",
       "      <th>seen_1</th>\n",
       "      <td>500</td>\n",
       "      <td>173</td>\n",
       "    </tr>\n",
       "    <tr>\n",
       "      <th>seen_2</th>\n",
       "      <td>463</td>\n",
       "      <td>108</td>\n",
       "    </tr>\n",
       "    <tr>\n",
       "      <th>seen_3</th>\n",
       "      <td>450</td>\n",
       "      <td>100</td>\n",
       "    </tr>\n",
       "    <tr>\n",
       "      <th>seen_4</th>\n",
       "      <td>483</td>\n",
       "      <td>124</td>\n",
       "    </tr>\n",
       "    <tr>\n",
       "      <th>seen_5</th>\n",
       "      <td>538</td>\n",
       "      <td>220</td>\n",
       "    </tr>\n",
       "    <tr>\n",
       "      <th>seen_6</th>\n",
       "      <td>537</td>\n",
       "      <td>201</td>\n",
       "    </tr>\n",
       "  </tbody>\n",
       "</table>\n",
       "</div>"
      ],
      "text/plain": [
       "        fan  non_fan\n",
       "seen_1  500      173\n",
       "seen_2  463      108\n",
       "seen_3  450      100\n",
       "seen_4  483      124\n",
       "seen_5  538      220\n",
       "seen_6  537      201"
      ]
     },
     "execution_count": 39,
     "metadata": {},
     "output_type": "execute_result"
    }
   ],
   "source": [
    "sum_fan_seen = fan.iloc[:,3:9].sum()\n",
    "sum_non_fan_seen = non_fan.iloc[:,3:9].sum()\n",
    "\n",
    "df_seen = pd.concat([sum_fan_seen,sum_non_fan_seen], axis=1)\n",
    "\n",
    "df_seen.columns = ['fan','non_fan']\n",
    "\n",
    "df_seen"
   ]
  },
  {
   "cell_type": "code",
   "execution_count": 48,
   "metadata": {
    "collapsed": false
   },
   "outputs": [
    {
     "data": {
      "text/plain": [
       "<matplotlib.axes._subplots.AxesSubplot at 0x7fb600591e10>"
      ]
     },
     "execution_count": 48,
     "metadata": {},
     "output_type": "execute_result"
    },
    {
     "data": {
      "image/png": "[encoded data removed]",
      "text/plain": [
       "<matplotlib.figure.Figure at 0x7fb6006c7940>"
      ]
     },
     "metadata": {},
     "output_type": "display_data"
    },
    {
     "data": {
      "image/png": "[encoded data removed]",
      "text/plain": [
       "<matplotlib.figure.Figure at 0x7fb6006c7a20>"
      ]
     },
     "metadata": {},
     "output_type": "display_data"
    }
   ],
   "source": [
    "df_seen.plot(kind='bar', title='Sum of Who Watched Movies')\n",
    "\n",
    "df_rank.plot(kind='bar', title='Rank of Movies')"
   ]
  },
  {
   "cell_type": "code",
   "execution_count": 47,
   "metadata": {
    "collapsed": false
   },
   "outputs": [
    {
     "data": {
      "text/plain": [
       "0.68832043083136996"
      ]
     },
     "execution_count": 47,
     "metadata": {},
     "output_type": "execute_result"
    }
   ],
   "source": [
    "sums = df_seen.sum()\n",
    "percent_fan = 1 - (sums[1] / sums[0])\n",
    "percent_fan"
   ]
  },
  {
   "cell_type": "code",
   "execution_count": 49,
   "metadata": {
    "collapsed": false
   },
   "outputs": [
    {
     "data": {
      "text/html": [
       "<div>\n",
       "<table border=\"1\" class=\"dataframe\">\n",
       "  <thead>\n",
       "    <tr style=\"text-align: right;\">\n",
       "      <th></th>\n",
       "      <th>fan</th>\n",
       "      <th>non_fan</th>\n",
       "    </tr>\n",
       "  </thead>\n",
       "  <tbody>\n",
       "    <tr>\n",
       "      <th>fan</th>\n",
       "      <td>1.000000</td>\n",
       "      <td>0.978349</td>\n",
       "    </tr>\n",
       "    <tr>\n",
       "      <th>non_fan</th>\n",
       "      <td>0.978349</td>\n",
       "      <td>1.000000</td>\n",
       "    </tr>\n",
       "  </tbody>\n",
       "</table>\n",
       "</div>"
      ],
      "text/plain": [
       "              fan   non_fan\n",
       "fan      1.000000  0.978349\n",
       "non_fan  0.978349  1.000000"
      ]
     },
     "execution_count": 49,
     "metadata": {},
     "output_type": "execute_result"
    }
   ],
   "source": [
    "df_seen.corr()"
   ]
  },
  {
   "cell_type": "code",
   "execution_count": 51,
   "metadata": {
    "collapsed": false
   },
   "outputs": [
    {
     "data": {
      "text/html": [
       "<div>\n",
       "<table border=\"1\" class=\"dataframe\">\n",
       "  <thead>\n",
       "    <tr style=\"text-align: right;\">\n",
       "      <th></th>\n",
       "      <th>fan</th>\n",
       "      <th>non_fan</th>\n",
       "    </tr>\n",
       "  </thead>\n",
       "  <tbody>\n",
       "    <tr>\n",
       "      <th>count</th>\n",
       "      <td>6.000000</td>\n",
       "      <td>6.000000</td>\n",
       "    </tr>\n",
       "    <tr>\n",
       "      <th>mean</th>\n",
       "      <td>3.499522</td>\n",
       "      <td>3.498202</td>\n",
       "    </tr>\n",
       "    <tr>\n",
       "      <th>std</th>\n",
       "      <td>0.904929</td>\n",
       "      <td>0.529477</td>\n",
       "    </tr>\n",
       "    <tr>\n",
       "      <th>min</th>\n",
       "      <td>2.333333</td>\n",
       "      <td>2.862676</td>\n",
       "    </tr>\n",
       "    <tr>\n",
       "      <th>25%</th>\n",
       "      <td>2.855525</td>\n",
       "      <td>3.070255</td>\n",
       "    </tr>\n",
       "    <tr>\n",
       "      <th>50%</th>\n",
       "      <td>3.537138</td>\n",
       "      <td>3.531690</td>\n",
       "    </tr>\n",
       "    <tr>\n",
       "      <th>75%</th>\n",
       "      <td>4.292120</td>\n",
       "      <td>3.847711</td>\n",
       "    </tr>\n",
       "    <tr>\n",
       "      <th>max</th>\n",
       "      <td>4.417423</td>\n",
       "      <td>4.193662</td>\n",
       "    </tr>\n",
       "  </tbody>\n",
       "</table>\n",
       "</div>"
      ],
      "text/plain": [
       "            fan   non_fan\n",
       "count  6.000000  6.000000\n",
       "mean   3.499522  3.498202\n",
       "std    0.904929  0.529477\n",
       "min    2.333333  2.862676\n",
       "25%    2.855525  3.070255\n",
       "50%    3.537138  3.531690\n",
       "75%    4.292120  3.847711\n",
       "max    4.417423  4.193662"
      ]
     },
     "execution_count": 51,
     "metadata": {},
     "output_type": "execute_result"
    }
   ],
   "source": [
    "df_rank.describe()"
   ]
  },
  {
   "cell_type": "code",
   "execution_count": 52,
   "metadata": {
    "collapsed": false
   },
   "outputs": [
    {
     "data": {
      "text/html": [
       "<div>\n",
       "<table border=\"1\" class=\"dataframe\">\n",
       "  <thead>\n",
       "    <tr style=\"text-align: right;\">\n",
       "      <th></th>\n",
       "      <th>fan</th>\n",
       "      <th>non_fan</th>\n",
       "    </tr>\n",
       "  </thead>\n",
       "  <tbody>\n",
       "    <tr>\n",
       "      <th>fan</th>\n",
       "      <td>1.000000</td>\n",
       "      <td>0.362693</td>\n",
       "    </tr>\n",
       "    <tr>\n",
       "      <th>non_fan</th>\n",
       "      <td>0.362693</td>\n",
       "      <td>1.000000</td>\n",
       "    </tr>\n",
       "  </tbody>\n",
       "</table>\n",
       "</div>"
      ],
      "text/plain": [
       "              fan   non_fan\n",
       "fan      1.000000  0.362693\n",
       "non_fan  0.362693  1.000000"
      ]
     },
     "execution_count": 52,
     "metadata": {},
     "output_type": "execute_result"
    }
   ],
   "source": [
    "df_rank.corr()"
   ]
  },
  {
   "cell_type": "markdown",
   "metadata": {},
   "source": [
    "## Findings\n",
    "\n",
    "What stands out to me is percent of fans vs non-fans surveyed. Almost 68% of survey sample claims to be a Star Wars fan. That can skew the results of analysis to fans opinions more than non-fans.\n",
    "\n",
    "Second there is a strong correlations with fans who saw the movies and non-fans who saw the movies. The correlation is about 98%. Suggesting that if fans see the movies, non-fans are likely to see the movie in a similar proportion.\n",
    "\n",
    "Third, fans had a higher standard deviation than non-fans ranking movies. Suggesting that fans opinions were more volatile than non-fans about the movies. A fan was likely to either like the movie or not like the movie to a higher degree. \n",
    "\n",
    "Fourth, there seems to be weak correlation between the ranking of movies of fans and non-fans. The correlation is about 36%. Suggesting that fans and non-fans tended to rate movies similar, but not very precisely. "
   ]
  },
  {
   "cell_type": "markdown",
   "metadata": {},
   "source": [
    "## Future Steps\n",
    "\n",
    "Here are some potential next steps:\n",
    "\n",
    "Try to segment the data by columns like Education, Location (Census Region), and Which character shot first?, which aren't binary. Are they any interesting patterns?\n",
    "Clean up columns 15 to 29, which have to do with what characters are viewed favorably and unfavorably.\n",
    "Which character is the most liked?\n",
    "Which character is the most disliked?\n",
    "Which character creates the most controversy? (split between dislikes and likes)"
   ]
  },
  {
   "cell_type": "code",
   "execution_count": null,
   "metadata": {
    "collapsed": true
   },
   "outputs": [],
   "source": []
  }
 ],
 "metadata": {
  "kernelspec": {
   "display_name": "Python 3",
   "language": "python",
   "name": "python3"
  },
  "language_info": {
   "codemirror_mode": {
    "name": "ipython",
    "version": 3
   },
   "file_extension": ".py",
   "mimetype": "text/x-python",
   "name": "python",
   "nbconvert_exporter": "python",
   "pygments_lexer": "ipython3",
   "version": "3.4.3"
  }
 },
 "nbformat": 4,
 "nbformat_minor": 0
}

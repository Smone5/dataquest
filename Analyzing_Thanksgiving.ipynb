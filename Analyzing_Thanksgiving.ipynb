{
 "cells": [
  {
   "cell_type": "code",
   "execution_count": 2,
   "metadata": {
    "collapsed": false
   },
   "outputs": [],
   "source": [
    "import pandas as pd\n",
    "\n",
    "#https://github.com/fivethirtyeight/data/tree/master/thanksgiving-2015\n",
    "data = pd.read_csv(\"thanksgiving.csv\", encoding=\"Latin-1\")\n",
    "\n",
    "#print(data[0:2])"
   ]
  },
  {
   "cell_type": "code",
   "execution_count": 26,
   "metadata": {
    "collapsed": false
   },
   "outputs": [],
   "source": [
    "col_names = data.columns\n"
   ]
  },
  {
   "cell_type": "code",
   "execution_count": 4,
   "metadata": {
    "collapsed": false
   },
   "outputs": [
    {
     "data": {
      "text/plain": [
       "Yes    980\n",
       "No      78\n",
       "Name: Do you celebrate Thanksgiving?, dtype: int64"
      ]
     },
     "execution_count": 4,
     "metadata": {},
     "output_type": "execute_result"
    }
   ],
   "source": [
    "data['Do you celebrate Thanksgiving?'].value_counts()"
   ]
  },
  {
   "cell_type": "code",
   "execution_count": 5,
   "metadata": {
    "collapsed": false
   },
   "outputs": [],
   "source": [
    "data = data[data['Do you celebrate Thanksgiving?']==\"Yes\"]"
   ]
  },
  {
   "cell_type": "code",
   "execution_count": 6,
   "metadata": {
    "collapsed": false
   },
   "outputs": [
    {
     "name": "stdout",
     "output_type": "stream",
     "text": [
      "Yes    12\n",
      "No      8\n",
      "Name: Do you typically have gravy?, dtype: int64\n"
     ]
    }
   ],
   "source": [
    "data['What is typically the main dish at your Thanksgiving dinner?'].value_counts()\n",
    "\n",
    "tofurkey = data[data[\"What is typically the main dish at your Thanksgiving dinner?\"]==\"Tofurkey\"]\n",
    "\n",
    "tofurkey_gravy = tofurkey[\"Do you typically have gravy?\"]\n",
    "\n",
    "print(tofurkey_gravy.value_counts())"
   ]
  },
  {
   "cell_type": "code",
   "execution_count": 7,
   "metadata": {
    "collapsed": false
   },
   "outputs": [
    {
     "name": "stdout",
     "output_type": "stream",
     "text": [
      "False    876\n",
      "True     104\n",
      "dtype: int64\n",
      "Do not buy all three 89.387755102\n"
     ]
    }
   ],
   "source": [
    "apple_isnull = data['Which type of pie is typically served at your Thanksgiving dinner? Please select all that apply. - Apple'].isnull()\n",
    "pumpkin_isnull = data['Which type of pie is typically served at your Thanksgiving dinner? Please select all that apply. - Pumpkin'].isnull()\n",
    "pecan_isnull = data['Which type of pie is typically served at your Thanksgiving dinner? Please select all that apply. - Pecan'].isnull()\n",
    "\n",
    "ate_pies = apple_isnull & pumpkin_isnull & pecan_isnull\n",
    "values = ate_pies.value_counts()\n",
    "\n",
    "print(values)\n",
    "\n",
    "\n",
    "total = (values[0] + values[1])\n",
    "\n",
    "not_three = (values[0] / total) * 100\n",
    "\n",
    "print(\"Do not buy all three\", not_three)\n",
    "\n",
    "\n",
    "\n"
   ]
  },
  {
   "cell_type": "code",
   "execution_count": 8,
   "metadata": {
    "collapsed": false
   },
   "outputs": [
    {
     "name": "stdout",
     "output_type": "stream",
     "text": [
      "      count    percent  total\n",
      "45.0    269  28.405491    947\n",
      "60.0    258  27.243928    947\n",
      "30.0    235  24.815206    947\n",
      "18.0    185  19.535375    947\n",
      "\n",
      "                    count    percent  total\n",
      "South Atlantic        203  21.804511    931\n",
      "Middle Atlantic       145  15.574651    931\n",
      "East North Central    145  15.574651    931\n",
      "Pacific               130  13.963480    931\n",
      "West South Central     85   9.129968    931\n",
      "West North Central     71   7.626208    931\n",
      "East South Central     56   6.015038    931\n",
      "New England            55   5.907626    931\n",
      "Mountain               41   4.403867    931\n"
     ]
    }
   ],
   "source": [
    "import numpy as np\n",
    "\n",
    "#function to convert a single string to appropriate integer value\n",
    "def convert_int(string):\n",
    "    if pd.isnull(string):\n",
    "        return None\n",
    "    else:\n",
    "        split = string.split()\n",
    "        extract = split[0]\n",
    "        if split[0] == \"60+\":\n",
    "            extract = extract.replace(\"60+\",\"60\")\n",
    "        extract = int(extract)\n",
    "        return extract\n",
    "\n",
    "#function to convert value counts to percentages\n",
    "def convert_value_counts(input):\n",
    "    from pandas import Series\n",
    "    counts = input.value_counts()\n",
    "    count_index = counts.index.tolist()\n",
    "    count_total = sum(counts[:])\n",
    "    count_percent = [(x/count_total) * 100 for x in counts]\n",
    "    s1 = Series(count_percent, index=count_index, name='percent')\n",
    "    s2 = Series(counts, index=count_index, name='count')\n",
    "    s3 = Series(count_total, index=count_index, name='total')\n",
    "    df = pd.concat([s2, s1, s3], axis=1)\n",
    "    \n",
    "    return(df)\n",
    "\n",
    "\n",
    "age = data['Age']\n",
    "\n",
    "data[\"int_age\"] = age.apply(convert_int)\n",
    "\n",
    "int_age = data[\"int_age\"]\n",
    "\n",
    "print(convert_value_counts(int_age))\n",
    "print()\n",
    "\n",
    "region = data['US Region']\n",
    "print(convert_value_counts(region))\n",
    "    "
   ]
  },
  {
   "cell_type": "markdown",
   "metadata": {
    "collapsed": true
   },
   "source": [
    "### Findings\n",
    "One could ask the question how many pies does one usually eat on thanksgiving? Also which is the most popular type of pie? According to the data above roughly 89.4% of people do not buy an apple, pumpkin and pecan pies for Thanksgiving. I would imagine it would be useful to understand which pie is more popular overall and which pie is the least popular. \n",
    "\n",
    "The survey seems to draw a sample relatively proportional to the national population. At first the survey seems skewed to the 60+ age group. In fact according to [Age and Sex Composition in the United States: 2012](https://www.census.gov/population/age/data/2012comp.html) with similar age ranges, the percent of civilians noninstitutionalized looks like this:\n",
    "+ 20-29 = 13.9%\n",
    "+ 30-44 = 19.5%\n",
    "+ 45-59 = 20.8%\n",
    "+ 60+ = 19.2%\n",
    "\n",
    "The Thanksgiving survey looks like this:\n",
    "+ 18-29 = 19.54%\n",
    "+ 30-44 = 24.82%\n",
    "+ 45-59 = 28.41%\n",
    "+ 60+ = 27.24%\n",
    "\n",
    "Besides the 60+ age group being 3% higher than the 30-44 age group in the Thanksgiving survey compared to the national population which the 30-44 age group is 3% higher, the survey seems to draw a sample relatively proportional to the national population.\n",
    "\n",
    "I also thought the sampled seemed skewed to the East Coast rather than the West Coast. The South Atlatic and Middle Atlantic Regions account for 37.38% of the samples, while the Pacific region including California only accounts for 13.96%. However when I looked at 2010 census data here [Annual Estimates of the Resident Population for the United States, Regions, States, and Puerto Rico: April 1, 2010 to July 1, 2016](https://www2.census.gov/programs-surveys/popest/tables/2010-2016/state/totals/nst-est2016-01.xlsx) the samples sizes seem rather proportionate. According the 2010 census 15.4% of population lived in the states of California, Oregon and Washington. That is pretty close to the 13.96% sample size in this exercise. So it would appear that Pacific region is not underepresented. \n",
    "\n",
    "Going foward I have questions about how the skewness of where people lived and income. I also wonder if they are well represented in the survey sample. \n"
   ]
  },
  {
   "cell_type": "code",
   "execution_count": 9,
   "metadata": {
    "collapsed": false
   },
   "outputs": [
    {
     "name": "stdout",
     "output_type": "stream",
     "text": [
      "          count    percent  total\n",
      "0.0          52   6.272618    829\n",
      "10000.0      60   7.237636    829\n",
      "25000.0     166  20.024125    829\n",
      "50000.0     127  15.319662    829\n",
      "75000.0     127  15.319662    829\n",
      "100000.0    109  13.148372    829\n",
      "125000.0     48   5.790109    829\n",
      "150000.0     38   4.583836    829\n",
      "175000.0     26   3.136309    829\n",
      "200000.0     76   9.167672    829\n",
      "\n",
      "count       829.000000\n",
      "mean      75965.018094\n",
      "std       59068.636748\n",
      "min           0.000000\n",
      "25%                NaN\n",
      "50%                NaN\n",
      "75%                NaN\n",
      "max      200000.000000\n",
      "Name: int_income, dtype: float64\n"
     ]
    },
    {
     "name": "stderr",
     "output_type": "stream",
     "text": [
      "/dataquest/system/env/python3/lib/python3.4/site-packages/ipykernel/__main__.py:21: FutureWarning: sort(....) is deprecated, use sort_index(.....)\n",
      "/dataquest/system/env/python3/lib/python3.4/site-packages/numpy/lib/function_base.py:3834: RuntimeWarning: Invalid value encountered in percentile\n",
      "  RuntimeWarning)\n"
     ]
    }
   ],
   "source": [
    "income = data['How much total combined money did all members of your HOUSEHOLD earn last year?']\n",
    "\n",
    "def convert_int_value(string):\n",
    "    if pd.isnull(string):\n",
    "        return None \n",
    "    else:\n",
    "        split = string.split()\n",
    "        extract = split[0]\n",
    "        if split[0] == \"Prefer\":\n",
    "            return None\n",
    "        else:\n",
    "            extract1 = extract.replace(\"$\",\"\")\n",
    "            extract2 = extract1.replace(\",\",\"\")\n",
    "            extract = int(extract2)\n",
    "            return extract\n",
    "data['int_income'] = income.apply(convert_int_value)\n",
    "\n",
    "int_income_counts = data['int_income']\n",
    "\n",
    "int_income_counts = convert_value_counts(int_income_counts)\n",
    "sorted_df = int_income_counts.sort()\n",
    "print(sorted_df)\n",
    "print()\n",
    "\n",
    "print(data['int_income'].describe())\n",
    "\n",
    "\n"
   ]
  },
  {
   "cell_type": "markdown",
   "metadata": {
    "collapsed": true
   },
   "source": [
    "## Findings\n",
    "There is a high deviation in income. A standard deviation of $59,068 is quite large. It seems like because of NaN data types in the *int_income* series, the describe method could not output 25%, 50% or 75% quartiles. That makes it hard to see how income is distributed. \n",
    "\n",
    "The mean income of \\$75,965 for the Thanksgiving survey seems rather normal compared to the 2015 household national average of $79,263 [HINC-01. Selected Characteristics of Households by Total Money Income](http://www2.census.gov/programs-surveys/cps/tables/hinc-01/2016/hinc01_1.xls). Also mean income can be easily skewed by higher incomes. It would probably be better to look at the median income rather than the mean income in this case. \n",
    "\n",
    "With 76/829 or roughly 9.17% people making over $200,000, that seems like a high proportion of people with that income compared to the proportion of people in the United States as a whole who make that income which is 6.07% [HINC-01. Selected Characteristics of Households by Total Money Income](http://www2.census.gov/programs-surveys/cps/tables/hinc-01/2016/hinc01_1.xls). That is likely skewing the mean. \n",
    "\n",
    "Also the method applied gave 52 people with an income of \\$0.00. That skewed the mean income as well. It would have been better to group the people who make $0 of income into another group that would be less likely to skew the mean. \n"
   ]
  },
  {
   "cell_type": "code",
   "execution_count": 10,
   "metadata": {
    "collapsed": false
   },
   "outputs": [
    {
     "name": "stdout",
     "output_type": "stream",
     "text": [
      "[\"Thanksgiving is happening at my home--I won't travel at all\", 'Thanksgiving is local--it will take place in the town I live in', \"Thanksgiving is out of town but not too far--it's a drive of a few hours or less\", 'Thanksgiving is out of town and far away--I have to drive several hours or fly']\n",
      "\n",
      "Income less than $50,000\n",
      "                                                    count    percent  total\n",
      "Thanksgiving is happening at my home--I won't t...    106  38.129496    278\n",
      "Thanksgiving is local--it will take place in th...     92  33.093525    278\n",
      "Thanksgiving is out of town but not too far--it...     64  23.021583    278\n",
      "Thanksgiving is out of town and far away--I hav...     16   5.755396    278\n",
      "\n",
      "Income greater than $150,000\n",
      "                                                    count    percent  total\n",
      "Thanksgiving is happening at my home--I won't t...     49  48.039216    102\n",
      "Thanksgiving is local--it will take place in th...     25  24.509804    102\n",
      "Thanksgiving is out of town but not too far--it...     16  15.686275    102\n",
      "Thanksgiving is out of town and far away--I hav...     12  11.764706    102\n"
     ]
    }
   ],
   "source": [
    "less_50000 = data[data['int_income']< 50000]\n",
    "\n",
    "less_50000_travel = less_50000['How far will you travel for Thanksgiving?']\n",
    "\n",
    "counts = less_50000_travel.value_counts()\n",
    "count_index = counts.index.tolist()\n",
    "\n",
    "print(count_index)\n",
    "print()\n",
    "\n",
    "print(\"Income less than $50,000\")\n",
    "print(convert_value_counts(less_50000_travel))\n",
    "print()\n",
    "greater_150000 = data[data['int_income']> 150000]\n",
    "greater_150000_travel = greater_150000['How far will you travel for Thanksgiving?']\n",
    "print(\"Income greater than $150,000\")\n",
    "print(convert_value_counts(greater_150000_travel))"
   ]
  },
  {
   "cell_type": "markdown",
   "metadata": {},
   "source": [
    "## Findings\n",
    "\n",
    "The sample size for the income greater than \\$150,000 is pretty small at 102 people. The margin of error is probably higher in the income bracket greater than \\$150,000 than the income bracket less than \\$50,000.\n",
    "\n",
    "The income bracket less than \\$50,000 has a higher percentage of people who travel locally to a different house than the income bracket greater than \\$150,000. The income bracket greater than \\$150,000 is also travels a distance that will require driving several hours or flying at a signficant higher percentage than the income bracket less than \\$50,000. "
   ]
  },
  {
   "cell_type": "code",
   "execution_count": 23,
   "metadata": {
    "collapsed": false
   },
   "outputs": [
    {
     "name": "stdout",
     "output_type": "stream",
     "text": [
      "Have you ever attended a \"Friendsgiving?\"                  No        Yes\n",
      "Have you ever tried to meet up with hometown fr...                      \n",
      "No                                                  42.283702  37.010526\n",
      "Yes                                                 41.475410  33.976744\n",
      "\n",
      "Have you ever attended a \"Friendsgiving?\"                     No           Yes\n",
      "Have you ever tried to meet up with hometown fr...                            \n",
      "No                                                  78914.549654  72894.736842\n",
      "Yes                                                 78750.000000  66019.736842\n"
     ]
    }
   ],
   "source": [
    "ave_respondents = data.pivot_table(index=\"Have you ever tried to meet up with hometown friends on Thanksgiving night?\", columns='Have you ever attended a \"Friendsgiving?\"', values=\"int_age\", aggfunc=np.mean) \n",
    "\n",
    "ave_income = data.pivot_table(index=\"Have you ever tried to meet up with hometown friends on Thanksgiving night?\", columns='Have you ever attended a \"Friendsgiving?\"', values=\"int_income\", aggfunc=np.mean)\n",
    "\n",
    "print(ave_respondents)\n",
    "print()\n",
    "print(ave_income)\n",
    "\n"
   ]
  },
  {
   "cell_type": "markdown",
   "metadata": {},
   "source": [
    "## Findings\n",
    "It seems like people who attending a \"Friendsgiving\" tend to be younger and have a lower income on average than those who don't. That could be because \"Friendsgiving\" is a new celebration celebrated by younger people. I personally have not heard about it until now. It could also be because older people work and have the income and means to to make it back to their hometown. \n",
    "\n",
    "It also seems like there is not a big difference between the average of income and who have tried to meet up with hometown friends and have never attended a \"Friendsgiving.\" This could mean income does influence if people can meet up friends in their hometown since a higher income could allow the respondent the means to make it back to their hometown.\n",
    "\n",
    "### Next Steps\n",
    "+ Figure out the most common dessert people eat.\n",
    "+ Figure out the most common complete meal people eat.\n",
    "+ Identify how many people work on Thanksgiving.\n",
    "+ Find regional patterns in the dinner menus.\n",
    "+ Find age, gender, and income based patterns in dinner menus.\n"
   ]
  },
  {
   "cell_type": "code",
   "execution_count": null,
   "metadata": {
    "collapsed": true
   },
   "outputs": [],
   "source": []
  }
 ],
 "metadata": {
  "kernelspec": {
   "display_name": "Python 3",
   "language": "python",
   "name": "python3"
  },
  "language_info": {
   "codemirror_mode": {
    "name": "ipython",
    "version": 3
   },
   "file_extension": ".py",
   "mimetype": "text/x-python",
   "name": "python",
   "nbconvert_exporter": "python",
   "pygments_lexer": "ipython3",
   "version": "3.4.3"
  }
 },
 "nbformat": 4,
 "nbformat_minor": 0
}
